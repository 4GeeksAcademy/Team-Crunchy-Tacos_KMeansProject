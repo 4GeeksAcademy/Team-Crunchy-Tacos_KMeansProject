{
 "cells": [
  {
   "cell_type": "markdown",
   "metadata": {},
   "source": [
    "# Explore here"
   ]
  },
  {
   "cell_type": "code",
   "execution_count": 1,
   "metadata": {},
   "outputs": [],
   "source": [
    "# Your code here\n",
    "# Handle imports up-front\n",
    "import pandas as pd"
   ]
  },
  {
   "cell_type": "code",
   "execution_count": 2,
   "metadata": {},
   "outputs": [],
   "source": [
    "raw_data_df=pd.read_csv(\"https://raw.githubusercontent.com/4GeeksAcademy/k-means-project-tutorial/main/housing.csv\")"
   ]
  },
  {
   "cell_type": "code",
   "execution_count": 3,
   "metadata": {},
   "outputs": [
    {
     "name": "stdout",
     "output_type": "stream",
     "text": [
      "<class 'pandas.core.frame.DataFrame'>\n",
      "RangeIndex: 20640 entries, 0 to 20639\n",
      "Data columns (total 9 columns):\n",
      " #   Column       Non-Null Count  Dtype  \n",
      "---  ------       --------------  -----  \n",
      " 0   MedInc       20640 non-null  float64\n",
      " 1   HouseAge     20640 non-null  float64\n",
      " 2   AveRooms     20640 non-null  float64\n",
      " 3   AveBedrms    20640 non-null  float64\n",
      " 4   Population   20640 non-null  float64\n",
      " 5   AveOccup     20640 non-null  float64\n",
      " 6   Latitude     20640 non-null  float64\n",
      " 7   Longitude    20640 non-null  float64\n",
      " 8   MedHouseVal  20640 non-null  float64\n",
      "dtypes: float64(9)\n",
      "memory usage: 1.4 MB\n"
     ]
    }
   ],
   "source": [
    "raw_data_df.info()"
   ]
  },
  {
   "cell_type": "code",
   "execution_count": 4,
   "metadata": {},
   "outputs": [
    {
     "name": "stdout",
     "output_type": "stream",
     "text": [
      "<class 'pandas.core.frame.DataFrame'>\n",
      "RangeIndex: 20640 entries, 0 to 20639\n",
      "Data columns (total 3 columns):\n",
      " #   Column     Non-Null Count  Dtype  \n",
      "---  ------     --------------  -----  \n",
      " 0   MedInc     20640 non-null  float64\n",
      " 1   Latitude   20640 non-null  float64\n",
      " 2   Longitude  20640 non-null  float64\n",
      "dtypes: float64(3)\n",
      "memory usage: 483.9 KB\n"
     ]
    }
   ],
   "source": [
    "data_df=raw_data_df[['MedInc', 'Latitude', 'Longitude']]\n",
    "data_df.info()"
   ]
  },
  {
   "cell_type": "code",
   "execution_count": 5,
   "metadata": {},
   "outputs": [
    {
     "name": "stdout",
     "output_type": "stream",
     "text": [
      "X_train (16512, 2)\n",
      "X_test (4128, 2)\n",
      "y_train (16512,)\n",
      "y_test (4128,)\n"
     ]
    }
   ],
   "source": [
    "# Your code here...\n",
    "from sklearn.model_selection import train_test_split\n",
    "\n",
    "X = data_df.drop(columns=['MedInc'])  \n",
    "y = data_df['MedInc']  \n",
    "\n",
    "X_train, X_test, y_train, y_test = train_test_split(X, y, test_size=0.2, random_state=42)\n",
    "\n",
    "print(f\"X_train {X_train.shape}\")\n",
    "print(f\"X_test {X_test.shape}\")\n",
    "print(f\"y_train {y_train.shape}\")\n",
    "print(f\"y_test {y_test.shape}\")"
   ]
  },
  {
   "cell_type": "code",
   "execution_count": 6,
   "metadata": {},
   "outputs": [],
   "source": [
    "# Your code here...\n",
    "import numpy as np\n",
    "from scipy.stats import zscore\n",
    "\n",
    "data_df_cleaned = data_df.dropna()\n",
    "\n",
    "data_df_cleaned = data_df.fillna(data_df.mean())\n",
    "\n",
    "\n",
    "# The dataset is pretty clean already, and we only have three features - but it never hurts to plot a few histograms to take a look at the shape of the data"
   ]
  },
  {
   "cell_type": "code",
   "execution_count": 7,
   "metadata": {},
   "outputs": [],
   "source": [
    "z_scores = np.abs(zscore(data_df.select_dtypes(include=np.number)))\n",
    "\n",
    "data_df_cleaned = data_df[(z_scores < 3).all(axis=1)]"
   ]
  },
  {
   "cell_type": "code",
   "execution_count": 8,
   "metadata": {},
   "outputs": [
    {
     "data": {
      "image/png": "[encoded data removed]",
      "text/plain": [
       "<Figure size 1000x600 with 1 Axes>"
      ]
     },
     "metadata": {},
     "output_type": "display_data"
    }
   ],
   "source": [
    "import matplotlib.pyplot as plt\n",
    "\n",
    "plt.figure(figsize=(10, 6))\n",
    "data_df_cleaned['MedInc'].hist(bins=20, edgecolor='black')\n",
    "\n",
    "plt.title('MedInc')\n",
    "plt.xlabel('Value')\n",
    "plt.ylabel('Frequency')\n",
    "\n",
    "plt.show()"
   ]
  },
  {
   "cell_type": "code",
   "execution_count": 9,
   "metadata": {},
   "outputs": [
    {
     "name": "stdout",
     "output_type": "stream",
     "text": [
      "     MedInc  Latitude  Longitude\n",
      "0  2.857822  1.047603  -1.328368\n",
      "1  2.842992  1.038259  -1.323378\n",
      "2  2.192476  1.033587  -1.333358\n",
      "3  1.186606  1.033587  -1.338349\n",
      "4  0.066958  1.033587  -1.338349\n"
     ]
    },
    {
     "name": "stderr",
     "output_type": "stream",
     "text": [
      "/tmp/ipykernel_4055/214754718.py:8: SettingWithCopyWarning: \n",
      "A value is trying to be set on a copy of a slice from a DataFrame.\n",
      "Try using .loc[row_indexer,col_indexer] = value instead\n",
      "\n",
      "See the caveats in the documentation: https://pandas.pydata.org/pandas-docs/stable/user_guide/indexing.html#returning-a-view-versus-a-copy\n",
      "  data_df_cleaned[numeric] = scaler.fit_transform(data_df_cleaned[numeric])\n"
     ]
    }
   ],
   "source": [
    "# The 4Geeks provided solution skips this part - but it's important! If one feature has a much larger range than the others, it will be given more importance during distance calculations...\n",
    "from sklearn.preprocessing import StandardScaler\n",
    "\n",
    "scaler = StandardScaler()\n",
    "\n",
    "numeric = data_df_cleaned.select_dtypes(include=['float64', 'int64']).columns\n",
    "\n",
    "data_df_cleaned[numeric] = scaler.fit_transform(data_df_cleaned[numeric])\n",
    "\n",
    "print(data_df_cleaned.head())\n"
   ]
  },
  {
   "cell_type": "code",
   "execution_count": 10,
   "metadata": {},
   "outputs": [],
   "source": [
    "# Use Scikit-learn's KMeans()\n",
    "import numpy as np\n",
    "from sklearn.cluster import KMeans\n",
    "from sklearn.datasets import make_blobs\n",
    "\n",
    "# Generate a sample dataset\n",
    "X, _ = make_blobs(n_samples = 300, centers = 3, random_state = 42)\n",
    "\n",
    "# Training the model\n",
    "model = KMeans(n_clusters = 3, random_state = 42)\n",
    "model.fit(X)\n",
    "\n",
    "# Making predictions with new data\n",
    "new_data = np.array([[2, 3], [0, 4], [3, 1]])\n",
    "predictions = model.predict(new_data)"
   ]
  },
  {
   "cell_type": "code",
   "execution_count": 11,
   "metadata": {},
   "outputs": [
    {
     "data": {
      "text/html": [
       "<div>\n",
       "<style scoped>\n",
       "    .dataframe tbody tr th:only-of-type {\n",
       "        vertical-align: middle;\n",
       "    }\n",
       "\n",
       "    .dataframe tbody tr th {\n",
       "        vertical-align: top;\n",
       "    }\n",
       "\n",
       "    .dataframe thead th {\n",
       "        text-align: right;\n",
       "    }\n",
       "</style>\n",
       "<table border=\"1\" class=\"dataframe\">\n",
       "  <thead>\n",
       "    <tr style=\"text-align: right;\">\n",
       "      <th></th>\n",
       "      <th>Latitude</th>\n",
       "      <th>Longitude</th>\n",
       "      <th>cluster</th>\n",
       "    </tr>\n",
       "  </thead>\n",
       "  <tbody>\n",
       "    <tr>\n",
       "      <th>14196</th>\n",
       "      <td>32.71</td>\n",
       "      <td>-117.03</td>\n",
       "      <td>1</td>\n",
       "    </tr>\n",
       "    <tr>\n",
       "      <th>8267</th>\n",
       "      <td>33.77</td>\n",
       "      <td>-118.16</td>\n",
       "      <td>1</td>\n",
       "    </tr>\n",
       "    <tr>\n",
       "      <th>17445</th>\n",
       "      <td>34.66</td>\n",
       "      <td>-120.48</td>\n",
       "      <td>3</td>\n",
       "    </tr>\n",
       "    <tr>\n",
       "      <th>14265</th>\n",
       "      <td>32.69</td>\n",
       "      <td>-117.11</td>\n",
       "      <td>1</td>\n",
       "    </tr>\n",
       "    <tr>\n",
       "      <th>2271</th>\n",
       "      <td>36.78</td>\n",
       "      <td>-119.80</td>\n",
       "      <td>5</td>\n",
       "    </tr>\n",
       "  </tbody>\n",
       "</table>\n",
       "</div>"
      ],
      "text/plain": [
       "       Latitude  Longitude  cluster\n",
       "14196     32.71    -117.03        1\n",
       "8267      33.77    -118.16        1\n",
       "17445     34.66    -120.48        3\n",
       "14265     32.69    -117.11        1\n",
       "2271      36.78    -119.80        5"
      ]
     },
     "execution_count": 11,
     "metadata": {},
     "output_type": "execute_result"
    }
   ],
   "source": [
    "# Add the clusters from the KMeans model as the new label - now we have turned our unsupervised machine learning problem into a supervised one!\n",
    "model_unsup = KMeans(n_clusters=6, n_init=\"auto\", random_state=42)\n",
    "model_unsup.fit(X_train)\n",
    "\n",
    "y_train = list(model_unsup.labels_)\n",
    "X_train[\"cluster\"] = y_train\n",
    "X_train.head()"
   ]
  },
  {
   "cell_type": "code",
   "execution_count": 12,
   "metadata": {},
   "outputs": [],
   "source": [
    "# If you scaled the data properly, you should notice that your clusters are much cleaner than the 4Geeks solution - which basically just cuts california in half and then stratifies it by median income because that was the feature with the largest range in values!\n",
    "import numpy as np\n",
    "from sklearn.cluster import KMeans\n",
    "from sklearn.datasets import make_blobs\n",
    "\n",
    "# Generate a sample dataset\n",
    "X, _ = make_blobs(n_samples = 300, centers = 3, random_state = 42)\n",
    "\n",
    "# Training the model\n",
    "model = KMeans(n_clusters = 3, random_state = 42)\n",
    "model.fit(X)\n",
    "\n",
    "# Making predictions with new data\n",
    "new_data = np.array([[2, 3], [0, 4], [3, 1]])\n",
    "predictions = model.predict(new_data)"
   ]
  },
  {
   "cell_type": "code",
   "execution_count": 13,
   "metadata": {},
   "outputs": [
    {
     "data": {
      "image/png": "[encoded data removed]",
      "text/plain": [
       "<Figure size 1000x600 with 1 Axes>"
      ]
     },
     "metadata": {},
     "output_type": "display_data"
    },
    {
     "name": "stdout",
     "output_type": "stream",
     "text": [
      "Accuracy of the classifier: 100.00%\n"
     ]
    }
   ],
   "source": [
    "# Re-seperate the feaurtes and labels to train a supervised classifier\n",
    "from sklearn.model_selection import train_test_split\n",
    "from sklearn.ensemble import RandomForestClassifier\n",
    "from sklearn.metrics import accuracy_score\n",
    "from scipy.cluster.hierarchy import linkage, dendrogram\n",
    "\n",
    "X, y = make_blobs(n_samples=100, centers=3, random_state=42)\n",
    "\n",
    "Z = linkage(X, method=\"complete\")\n",
    "\n",
    "plt.figure(figsize=(10, 6))\n",
    "dendrogram(Z)\n",
    "plt.title(\"Dendrogram\")\n",
    "plt.xlabel(\"Data Index\")\n",
    "plt.ylabel(\"Distance\")\n",
    "plt.show()\n",
    "\n",
    "X_train, X_test, y_train, y_test = train_test_split(X, y, test_size=0.2, random_state=42)\n",
    "\n",
    "clf = RandomForestClassifier(random_state=42)\n",
    "clf.fit(X_train, y_train)\n",
    "\n",
    "y_pred = clf.predict(X_test)\n",
    "\n",
    "accuracy = accuracy_score(y_test, y_pred)\n",
    "print(f\"Accuracy of the classifier: {accuracy * 100:.2f}%\")"
   ]
  },
  {
   "cell_type": "code",
   "execution_count": 14,
   "metadata": {},
   "outputs": [],
   "source": [
    "# Pick any classification model you like\n",
    "from sklearn.datasets import load_iris\n",
    "from sklearn.decomposition import PCA\n",
    "\n",
    "# Load the Iris dataset\n",
    "iris = load_iris()\n",
    "X = iris.data\n",
    "y = iris.target\n",
    "\n",
    "# Create a PCA object and fit it to the data\n",
    "pca = PCA(n_components = 2)\n",
    "X_pca = pca.fit_transform(X)"
   ]
  },
  {
   "cell_type": "code",
   "execution_count": 15,
   "metadata": {},
   "outputs": [
    {
     "name": "stdout",
     "output_type": "stream",
     "text": [
      "Cross-validation scores (Logistic Regression): [0.93333333 1.         0.93333333 0.93333333 1.        ]\n",
      "Mean accuracy: 0.9600\n",
      "Cross-validation scores (Random Forest): [0.96666667 0.9        0.93333333 0.93333333 0.93333333]\n",
      "Mean accuracy: 0.9333\n"
     ]
    }
   ],
   "source": [
    "# You can re-use the 'cross_val' helper function we wrote for the naive bayes project here (look in src/utils.py in my copy of the repo. from the course materials repo. list).\n",
    "from sklearn.model_selection import cross_val_score\n",
    "from sklearn.linear_model import LogisticRegression\n",
    "\n",
    "clf = LogisticRegression(max_iter=200)  \n",
    "\n",
    "cv_scores = cross_val_score(clf, X_pca, y, cv=5, scoring='accuracy')\n",
    "\n",
    "print(f\"Cross-validation scores (Logistic Regression): {cv_scores}\")\n",
    "print(f\"Mean accuracy: {cv_scores.mean():.4f}\")\n",
    "\n",
    "clf_rf = RandomForestClassifier(random_state=42)\n",
    "\n",
    "cv_scores_rf = cross_val_score(clf_rf, X_pca, y, cv=5, scoring='accuracy')\n",
    "\n",
    "print(f\"Cross-validation scores (Random Forest): {cv_scores_rf}\")\n",
    "print(f\"Mean accuracy: {cv_scores_rf.mean():.4f}\")"
   ]
  },
  {
   "cell_type": "code",
   "execution_count": 16,
   "metadata": {},
   "outputs": [
    {
     "data": {
      "image/png": "[encoded data removed]",
      "text/plain": [
       "<Figure size 600x600 with 1 Axes>"
      ]
     },
     "metadata": {},
     "output_type": "display_data"
    }
   ],
   "source": [
    "# Your code here...\n",
    "# Run the Kmeans algorithm and get the index of data points clusters\n",
    "sse = []\n",
    "list_k = list(range(1, 10))\n",
    "\n",
    "for k in list_k:\n",
    "    km = KMeans(n_clusters=k)\n",
    "    km.fit(X_test)\n",
    "    sse.append(km.inertia_)\n",
    "\n",
    "# Plot sse against k\n",
    "plt.figure(figsize=(6, 6))\n",
    "plt.plot(list_k, sse, '-o')\n",
    "plt.xlabel(r'Number of clusters *k*')\n",
    "plt.ylabel('Sum of squared distance');"
   ]
  }
 ],
 "metadata": {
  "kernelspec": {
   "display_name": "Python 3",
   "language": "python",
   "name": "python3"
  },
  "language_info": {
   "codemirror_mode": {
    "name": "ipython",
    "version": 3
   },
   "file_extension": ".py",
   "mimetype": "text/x-python",
   "name": "python",
   "nbconvert_exporter": "python",
   "pygments_lexer": "ipython3",
   "version": "3.10.12"
  },
  "orig_nbformat": 4
 },
 "nbformat": 4,
 "nbformat_minor": 2
}
